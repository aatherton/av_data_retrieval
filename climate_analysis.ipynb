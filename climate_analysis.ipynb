{
 "cells": [
  {
   "cell_type": "code",
   "execution_count": 134,
   "metadata": {
    "collapsed": true
   },
   "outputs": [],
   "source": [
    "# import dependancies\n",
    "from sqlalchemy import create_engine, Column, Integer, String, Float\n",
    "from sqlalchemy.ext.declarative import declarative_base\n",
    "from sqlalchemy.orm import Session\n",
    "import matplotlib.pyplot as plt\n",
    "from dateutil import parser\n",
    "from dateutil.relativedelta import relativedelta\n",
    "import pandas\n",
    "from flask import jsonify"
   ]
  },
  {
   "cell_type": "code",
   "execution_count": 11,
   "metadata": {
    "collapsed": true
   },
   "outputs": [],
   "source": [
    "# declare constants\n",
    "BASE = declarative_base()\n",
    "ENGINE = create_engine('sqlite:///hawaii.sqlite')"
   ]
  },
  {
   "cell_type": "code",
   "execution_count": 112,
   "metadata": {
    "collapsed": true
   },
   "outputs": [],
   "source": [
    "# define functions\n",
    "\n",
    "def preferences(data):\n",
    "    \"\"\"takes a ton of data, returns a value representing how good a day that is based on preference parameters\"\"\"\n",
    "    result = 0\n",
    "    # temperature preferences\n",
    "    # min/max is room temperature\n",
    "    MIN = 59\n",
    "    MAX = 77\n",
    "    # constant for \"T1\" days- days outside of temp range, but still acceptable\n",
    "    T1 = (MAX - ((MIN + MAX) / 2))\n",
    "    # precipitation is good, mmkay? this constant says how good. adjust as needed\n",
    "    \n",
    "    PREC = T1 * 1.5\n",
    "    # add precipitation preference\n",
    "    result = result + ((ball[\"prcp\"][ball.prcp > 0].count() / data[\"prcp\"].count()) * PREC)\n",
    "    # subtract temperature preferences\n",
    "    result = result - ((data[\"tobs\"][((data.tobs > MAX) & (data.tobs > MAX + T1)) | ((data.tobs < MIN) & (data.tobs > MIN - T1))].count() / data[\"tobs\"].count()) * T1)\n",
    "    result = result - ((data[\"tobs\"][(data.tobs > MAX + T1) | (data.tobs < MIN - T1)].count() / data[\"tobs\"].count()) * (T1 * 2))\n",
    "    return result\n",
    "    \n",
    "\n",
    "def opt_date(pref):\n",
    "    \"\"\"runs run_temps recursively and picks the optimal date to start the vacation from it\"\"\"\n",
    "    result = {\n",
    "        \"date\": [],\n",
    "        \"pref\": []\n",
    "    }\n",
    "    for month in range(1, 12):\n",
    "        if month < 9:\n",
    "            month = f\"0{month + 1}\"\n",
    "        else:\n",
    "            month = str(month + 1)\n",
    "        for day in range(30):\n",
    "            if day < 9:\n",
    "                date = f\"0000-{month}-0{day + 1}\"\n",
    "            else:\n",
    "                date = f\"0000-{month}-{day + 1}\"\n",
    "            result[\"date\"].append(date)\n",
    "            result[\"pref\"].append(pref(run_temps(date)))\n",
    "    return pandas.DataFrame(result)\n",
    "\n",
    "def run_temp(date):\n",
    "    \"\"\"takes a str in the format yyyy-mm-dd\"\"\"\n",
    "    # result = str(parser.parse(date) + relativedelta(day=15))[:-9]\n",
    "    result = date.split(\"-\")\n",
    "    result = f\"{result[1]}-{result[2]}\"\n",
    "    # return(result)\n",
    "    result = pandas.read_sql_query(f\"\"\"\n",
    "    select tobs,\n",
    "        prcp\n",
    "    from measurements\n",
    "    where substr(date, 6) = \"{result}\"\n",
    "    \"\"\", ENGINE)\n",
    "    return(result)\n",
    "\n",
    "def calc_temps(date):\n",
    "    \"\"\"does run temp repeatedly to get data for a range of dates equal to {date} + 15 days\"\"\"\n",
    "    result = pandas.DataFrame()\n",
    "    for each in range(15):\n",
    "        if each > 1:\n",
    "            date = str(parser.parse(date) + relativedelta(day=1))[:-9]\n",
    "            result.append(run_temps(date))\n",
    "        else:\n",
    "            result = run_temps(date)\n",
    "    result = result.describe()[\"tobs\"]\n",
    "    result = {\n",
    "        \"min\": result[\"min\"],\n",
    "        \"average\": result[\"mean\"],\n",
    "        \"max\": result[\"max\"]\n",
    "    }\n",
    "    return result"
   ]
  },
  {
   "cell_type": "code",
   "execution_count": 109,
   "metadata": {},
   "outputs": [
    {
     "name": "stderr",
     "output_type": "stream",
     "text": [
      "C:\\Users\\Adam\\Anaconda3\\envs\\pythondata\\lib\\site-packages\\ipykernel_launcher.py:16: RuntimeWarning: divide by zero encountered in long_scalars\n",
      "  app.launch_new_instance()\n",
      "C:\\Users\\Adam\\Anaconda3\\envs\\pythondata\\lib\\site-packages\\ipykernel_launcher.py:18: RuntimeWarning: invalid value encountered in long_scalars\n",
      "C:\\Users\\Adam\\Anaconda3\\envs\\pythondata\\lib\\site-packages\\ipykernel_launcher.py:19: RuntimeWarning: invalid value encountered in long_scalars\n"
     ]
    },
    {
     "data": {
      "text/html": [
       "<div>\n",
       "<style>\n",
       "    .dataframe thead tr:only-child th {\n",
       "        text-align: right;\n",
       "    }\n",
       "\n",
       "    .dataframe thead th {\n",
       "        text-align: left;\n",
       "    }\n",
       "\n",
       "    .dataframe tbody tr th {\n",
       "        vertical-align: top;\n",
       "    }\n",
       "</style>\n",
       "<table border=\"1\" class=\"dataframe\">\n",
       "  <thead>\n",
       "    <tr style=\"text-align: right;\">\n",
       "      <th></th>\n",
       "      <th>date</th>\n",
       "      <th>pref</th>\n",
       "    </tr>\n",
       "  </thead>\n",
       "  <tbody>\n",
       "    <tr>\n",
       "      <th>28</th>\n",
       "      <td>0000-02-29</td>\n",
       "      <td>18.000000</td>\n",
       "    </tr>\n",
       "    <tr>\n",
       "      <th>324</th>\n",
       "      <td>0000-12-25</td>\n",
       "      <td>6.750000</td>\n",
       "    </tr>\n",
       "    <tr>\n",
       "      <th>320</th>\n",
       "      <td>0000-12-21</td>\n",
       "      <td>6.279070</td>\n",
       "    </tr>\n",
       "    <tr>\n",
       "      <th>329</th>\n",
       "      <td>0000-12-30</td>\n",
       "      <td>6.136364</td>\n",
       "    </tr>\n",
       "    <tr>\n",
       "      <th>248</th>\n",
       "      <td>0000-10-09</td>\n",
       "      <td>6.136364</td>\n",
       "    </tr>\n",
       "  </tbody>\n",
       "</table>\n",
       "</div>"
      ],
      "text/plain": [
       "           date       pref\n",
       "28   0000-02-29  18.000000\n",
       "324  0000-12-25   6.750000\n",
       "320  0000-12-21   6.279070\n",
       "329  0000-12-30   6.136364\n",
       "248  0000-10-09   6.136364"
      ]
     },
     "execution_count": 109,
     "metadata": {},
     "output_type": "execute_result"
    }
   ],
   "source": [
    "opt_date(preferences).sort_values(\"pref\", ascending = False).head()"
   ]
  },
  {
   "cell_type": "code",
   "execution_count": 114,
   "metadata": {},
   "outputs": [
    {
     "data": {
      "text/html": [
       "<div>\n",
       "<style>\n",
       "    .dataframe thead tr:only-child th {\n",
       "        text-align: right;\n",
       "    }\n",
       "\n",
       "    .dataframe thead th {\n",
       "        text-align: left;\n",
       "    }\n",
       "\n",
       "    .dataframe tbody tr th {\n",
       "        vertical-align: top;\n",
       "    }\n",
       "</style>\n",
       "<table border=\"1\" class=\"dataframe\">\n",
       "  <thead>\n",
       "    <tr style=\"text-align: right;\">\n",
       "      <th></th>\n",
       "      <th>tobs</th>\n",
       "      <th>prcp</th>\n",
       "    </tr>\n",
       "  </thead>\n",
       "  <tbody>\n",
       "    <tr>\n",
       "      <th>count</th>\n",
       "      <td>40.000000</td>\n",
       "      <td>40.000000</td>\n",
       "    </tr>\n",
       "    <tr>\n",
       "      <th>mean</th>\n",
       "      <td>71.750000</td>\n",
       "      <td>0.284500</td>\n",
       "    </tr>\n",
       "    <tr>\n",
       "      <th>std</th>\n",
       "      <td>4.354485</td>\n",
       "      <td>0.686474</td>\n",
       "    </tr>\n",
       "    <tr>\n",
       "      <th>min</th>\n",
       "      <td>60.000000</td>\n",
       "      <td>0.000000</td>\n",
       "    </tr>\n",
       "    <tr>\n",
       "      <th>25%</th>\n",
       "      <td>69.750000</td>\n",
       "      <td>0.000000</td>\n",
       "    </tr>\n",
       "    <tr>\n",
       "      <th>50%</th>\n",
       "      <td>73.000000</td>\n",
       "      <td>0.030000</td>\n",
       "    </tr>\n",
       "    <tr>\n",
       "      <th>75%</th>\n",
       "      <td>74.000000</td>\n",
       "      <td>0.262500</td>\n",
       "    </tr>\n",
       "    <tr>\n",
       "      <th>max</th>\n",
       "      <td>79.000000</td>\n",
       "      <td>3.140000</td>\n",
       "    </tr>\n",
       "  </tbody>\n",
       "</table>\n",
       "</div>"
      ],
      "text/plain": [
       "            tobs       prcp\n",
       "count  40.000000  40.000000\n",
       "mean   71.750000   0.284500\n",
       "std     4.354485   0.686474\n",
       "min    60.000000   0.000000\n",
       "25%    69.750000   0.000000\n",
       "50%    73.000000   0.030000\n",
       "75%    74.000000   0.262500\n",
       "max    79.000000   3.140000"
      ]
     },
     "execution_count": 114,
     "metadata": {},
     "output_type": "execute_result"
    }
   ],
   "source": [
    "run_temp(\"2018-12-25\").describe()"
   ]
  },
  {
   "cell_type": "code",
   "execution_count": 105,
   "metadata": {},
   "outputs": [
    {
     "data": {
      "text/html": [
       "<div>\n",
       "<style>\n",
       "    .dataframe thead tr:only-child th {\n",
       "        text-align: right;\n",
       "    }\n",
       "\n",
       "    .dataframe thead th {\n",
       "        text-align: left;\n",
       "    }\n",
       "\n",
       "    .dataframe tbody tr th {\n",
       "        vertical-align: top;\n",
       "    }\n",
       "</style>\n",
       "<table border=\"1\" class=\"dataframe\">\n",
       "  <thead>\n",
       "    <tr style=\"text-align: right;\">\n",
       "      <th></th>\n",
       "      <th>date</th>\n",
       "      <th>prcp</th>\n",
       "    </tr>\n",
       "  </thead>\n",
       "  <tbody>\n",
       "    <tr>\n",
       "      <th>0</th>\n",
       "      <td>2017-08-23</td>\n",
       "      <td>0.00</td>\n",
       "    </tr>\n",
       "    <tr>\n",
       "      <th>1</th>\n",
       "      <td>2017-08-23</td>\n",
       "      <td>0.00</td>\n",
       "    </tr>\n",
       "    <tr>\n",
       "      <th>2</th>\n",
       "      <td>2017-08-23</td>\n",
       "      <td>0.08</td>\n",
       "    </tr>\n",
       "    <tr>\n",
       "      <th>3</th>\n",
       "      <td>2017-08-23</td>\n",
       "      <td>0.45</td>\n",
       "    </tr>\n",
       "    <tr>\n",
       "      <th>4</th>\n",
       "      <td>2017-08-22</td>\n",
       "      <td>0.00</td>\n",
       "    </tr>\n",
       "  </tbody>\n",
       "</table>\n",
       "</div>"
      ],
      "text/plain": [
       "         date  prcp\n",
       "0  2017-08-23  0.00\n",
       "1  2017-08-23  0.00\n",
       "2  2017-08-23  0.08\n",
       "3  2017-08-23  0.45\n",
       "4  2017-08-22  0.00"
      ]
     },
     "execution_count": 105,
     "metadata": {},
     "output_type": "execute_result"
    }
   ],
   "source": [
    "pandas.read_sql_query(\"\"\"\n",
    "    select date, prcp\n",
    "    from measurements\n",
    "    where date > \"2017-02-01\"\n",
    "    order by date desc\n",
    "    \"\"\", ENGINE).head()"
   ]
  },
  {
   "cell_type": "code",
   "execution_count": 22,
   "metadata": {},
   "outputs": [
    {
     "data": {
      "image/png": "[encoded data removed]",
      "text/plain": [
       "<matplotlib.figure.Figure at 0x1fdf0718748>"
      ]
     },
     "metadata": {},
     "output_type": "display_data"
    }
   ],
   "source": [
    "ball = pandas.read_sql_query(\"\"\"\n",
    "    select date, prcp\n",
    "    from measurements\n",
    "    where date > \"2017-02-01\"\n",
    "    order by date desc\n",
    "    \"\"\", ENGINE)\n",
    "result = {\"sum\": {}, \"avg\": {}}\n",
    "for each in ball[\"date\"].unique():\n",
    "    result[\"sum\"][parser.parse(each)] = ball.loc[ball[\"date\"] == each][\"prcp\"].sum()\n",
    "    result[\"avg\"][parser.parse(each)] = ball.loc[ball[\"date\"] == each][\"prcp\"].mean()\n",
    "result = pandas.DataFrame(result)\n",
    "result.plot()\n",
    "plt.show()"
   ]
  },
  {
   "cell_type": "code",
   "execution_count": 21,
   "metadata": {},
   "outputs": [
    {
     "data": {
      "text/html": [
       "<div>\n",
       "<style>\n",
       "    .dataframe thead tr:only-child th {\n",
       "        text-align: right;\n",
       "    }\n",
       "\n",
       "    .dataframe thead th {\n",
       "        text-align: left;\n",
       "    }\n",
       "\n",
       "    .dataframe tbody tr th {\n",
       "        vertical-align: top;\n",
       "    }\n",
       "</style>\n",
       "<table border=\"1\" class=\"dataframe\">\n",
       "  <thead>\n",
       "    <tr style=\"text-align: right;\">\n",
       "      <th></th>\n",
       "      <th>prcp</th>\n",
       "    </tr>\n",
       "  </thead>\n",
       "  <tbody>\n",
       "    <tr>\n",
       "      <th>count</th>\n",
       "      <td>19550.000000</td>\n",
       "    </tr>\n",
       "    <tr>\n",
       "      <th>mean</th>\n",
       "      <td>0.148753</td>\n",
       "    </tr>\n",
       "    <tr>\n",
       "      <th>std</th>\n",
       "      <td>0.453021</td>\n",
       "    </tr>\n",
       "    <tr>\n",
       "      <th>min</th>\n",
       "      <td>0.000000</td>\n",
       "    </tr>\n",
       "    <tr>\n",
       "      <th>25%</th>\n",
       "      <td>0.000000</td>\n",
       "    </tr>\n",
       "    <tr>\n",
       "      <th>50%</th>\n",
       "      <td>0.010000</td>\n",
       "    </tr>\n",
       "    <tr>\n",
       "      <th>75%</th>\n",
       "      <td>0.090000</td>\n",
       "    </tr>\n",
       "    <tr>\n",
       "      <th>max</th>\n",
       "      <td>11.530000</td>\n",
       "    </tr>\n",
       "  </tbody>\n",
       "</table>\n",
       "</div>"
      ],
      "text/plain": [
       "               prcp\n",
       "count  19550.000000\n",
       "mean       0.148753\n",
       "std        0.453021\n",
       "min        0.000000\n",
       "25%        0.000000\n",
       "50%        0.010000\n",
       "75%        0.090000\n",
       "max       11.530000"
      ]
     },
     "execution_count": 21,
     "metadata": {},
     "output_type": "execute_result"
    }
   ],
   "source": [
    "result = pandas.read_sql_query(\"\"\"select date, prcp\n",
    "    from measurements\n",
    "    order by date desc\n",
    "    \"\"\", ENGINE)\n",
    "result.describe()"
   ]
  },
  {
   "cell_type": "code",
   "execution_count": 20,
   "metadata": {},
   "outputs": [
    {
     "data": {
      "text/html": [
       "<div>\n",
       "<style>\n",
       "    .dataframe thead tr:only-child th {\n",
       "        text-align: right;\n",
       "    }\n",
       "\n",
       "    .dataframe thead th {\n",
       "        text-align: left;\n",
       "    }\n",
       "\n",
       "    .dataframe tbody tr th {\n",
       "        vertical-align: top;\n",
       "    }\n",
       "</style>\n",
       "<table border=\"1\" class=\"dataframe\">\n",
       "  <thead>\n",
       "    <tr style=\"text-align: right;\">\n",
       "      <th></th>\n",
       "      <th>station</th>\n",
       "      <th>name</th>\n",
       "    </tr>\n",
       "  </thead>\n",
       "  <tbody>\n",
       "    <tr>\n",
       "      <th>0</th>\n",
       "      <td>USC00519281</td>\n",
       "      <td>WAIHEE 837.5, HI US</td>\n",
       "    </tr>\n",
       "    <tr>\n",
       "      <th>1</th>\n",
       "      <td>USC00519397</td>\n",
       "      <td>WAIKIKI 717.2, HI US</td>\n",
       "    </tr>\n",
       "    <tr>\n",
       "      <th>2</th>\n",
       "      <td>USC00513117</td>\n",
       "      <td>KANEOHE 838.1, HI US</td>\n",
       "    </tr>\n",
       "    <tr>\n",
       "      <th>3</th>\n",
       "      <td>USC00519523</td>\n",
       "      <td>WAIMANALO EXPERIMENTAL FARM, HI US</td>\n",
       "    </tr>\n",
       "    <tr>\n",
       "      <th>4</th>\n",
       "      <td>USC00516128</td>\n",
       "      <td>MANOA LYON ARBO 785.2, HI US</td>\n",
       "    </tr>\n",
       "    <tr>\n",
       "      <th>5</th>\n",
       "      <td>USC00514830</td>\n",
       "      <td>KUALOA RANCH HEADQUARTERS 886.9, HI US</td>\n",
       "    </tr>\n",
       "    <tr>\n",
       "      <th>6</th>\n",
       "      <td>USC00511918</td>\n",
       "      <td>HONOLULU OBSERVATORY 702.2, HI US</td>\n",
       "    </tr>\n",
       "    <tr>\n",
       "      <th>7</th>\n",
       "      <td>USC00517948</td>\n",
       "      <td>PEARL CITY, HI US</td>\n",
       "    </tr>\n",
       "    <tr>\n",
       "      <th>8</th>\n",
       "      <td>USC00518838</td>\n",
       "      <td>UPPER WAHIAWA 874.3, HI US</td>\n",
       "    </tr>\n",
       "  </tbody>\n",
       "</table>\n",
       "</div>"
      ],
      "text/plain": [
       "       station                                    name\n",
       "0  USC00519281                     WAIHEE 837.5, HI US\n",
       "1  USC00519397                    WAIKIKI 717.2, HI US\n",
       "2  USC00513117                    KANEOHE 838.1, HI US\n",
       "3  USC00519523      WAIMANALO EXPERIMENTAL FARM, HI US\n",
       "4  USC00516128            MANOA LYON ARBO 785.2, HI US\n",
       "5  USC00514830  KUALOA RANCH HEADQUARTERS 886.9, HI US\n",
       "6  USC00511918       HONOLULU OBSERVATORY 702.2, HI US\n",
       "7  USC00517948                       PEARL CITY, HI US\n",
       "8  USC00518838              UPPER WAHIAWA 874.3, HI US"
      ]
     },
     "execution_count": 20,
     "metadata": {},
     "output_type": "execute_result"
    }
   ],
   "source": [
    "pandas.read_sql_query(\"\"\"\n",
    "    select stations.station,\n",
    "        name\n",
    "    from stations\n",
    "        join measurements on stations.station = measurements.station\n",
    "    group by name\n",
    "    order by count(name) desc\n",
    "    \"\"\", ENGINE)"
   ]
  },
  {
   "cell_type": "code",
   "execution_count": 24,
   "metadata": {},
   "outputs": [
    {
     "data": {
      "image/png": "[encoded data removed]",
      "text/plain": [
       "<matplotlib.figure.Figure at 0x1fdf07981d0>"
      ]
     },
     "metadata": {},
     "output_type": "display_data"
    }
   ],
   "source": [
    "ball = pandas.read_sql_query(\"\"\"\n",
    "    select\n",
    "        measurements.date,\n",
    "            tobs\n",
    "    from measurements\n",
    "        join stations on stations.station = measurements.station\n",
    "    where measurements.date > \"2017-02-01\"\n",
    "        and stations.station = \"USC00514830\"\n",
    "    order by date desc\n",
    "    \"\"\", ENGINE)\n",
    "ball.hist(bins = 12)\n",
    "plt.show()"
   ]
  },
  {
   "cell_type": "code",
   "execution_count": 122,
   "metadata": {},
   "outputs": [
    {
     "data": {
      "image/png": "[encoded data removed]",
      "text/plain": [
       "<matplotlib.figure.Figure at 0x20d1cb3d208>"
      ]
     },
     "metadata": {},
     "output_type": "display_data"
    }
   ],
   "source": [
    "ball = calc_temps(\"2018-12-25\")\n",
    "ball[\"dev\"] = ((ball[\"average\"] - ball[\"min\"]) + (ball[\"max\"] - ball[\"average\"])) / 2\n",
    "plt.bar(0, ball[\"average\"], yerr = ball[\"dev\"])\n",
    "plt.show()"
   ]
  }
 ],
 "metadata": {
  "kernelspec": {
   "display_name": "Python 3",
   "language": "python",
   "name": "python3"
  },
  "language_info": {
   "codemirror_mode": {
    "name": "ipython",
    "version": 3
   },
   "file_extension": ".py",
   "mimetype": "text/x-python",
   "name": "python",
   "nbconvert_exporter": "python",
   "pygments_lexer": "ipython3",
   "version": "3.6.3"
  }
 },
 "nbformat": 4,
 "nbformat_minor": 2
}
